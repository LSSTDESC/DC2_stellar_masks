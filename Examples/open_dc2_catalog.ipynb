{
 "cells": [
  {
   "cell_type": "code",
   "execution_count": 1,
   "id": "ed44991e-451e-4f25-8364-9ed1bd947c0f",
   "metadata": {},
   "outputs": [],
   "source": [
    "import sys\n",
    "sys.path.append('../bright_objects_masks')\n",
    "import call_dc2"
   ]
  },
  {
   "cell_type": "code",
   "execution_count": 2,
   "id": "1e7aca08-dc34-495c-a116-aa6de952b8db",
   "metadata": {},
   "outputs": [],
   "source": [
    "openDC2 = call_dc2.openDC2(name = 'dc2_object_run2.2i_dr6_v2_with_addons_v2') #It is the same catalog by default"
   ]
  },
  {
   "cell_type": "markdown",
   "id": "e5ea0f16-116f-487c-900e-cf420e110f22",
   "metadata": {},
   "source": [
    "Lets say you want to get galaxies from tract 3830"
   ]
  },
  {
   "cell_type": "code",
   "execution_count": 3,
   "id": "731a0e18-1f24-4683-97d2-858861293247",
   "metadata": {},
   "outputs": [
    {
     "name": "stdout",
     "output_type": "stream",
     "text": [
      "Default flags selected\n"
     ]
    },
    {
     "name": "stderr",
     "output_type": "stream",
     "text": [
      "/sps/lsst/users/namourou/conda_envs/conda_clone_021023/desc_v0/lib/python3.10/site-packages/GCRCatalogs/dc2_dm_catalog.py:43: RuntimeWarning: divide by zero encountered in log10\n",
      "  return -2.5 * np.log10(flux) + AB_mag_zp_wrt_nanoJansky\n",
      "/sps/lsst/users/namourou/conda_envs/conda_clone_021023/desc_v0/lib/python3.10/site-packages/GCRCatalogs/dc2_dm_catalog.py:43: RuntimeWarning: invalid value encountered in log10\n",
      "  return -2.5 * np.log10(flux) + AB_mag_zp_wrt_nanoJansky\n"
     ]
    },
    {
     "name": "stdout",
     "output_type": "stream",
     "text": [
      "DC2 catalog loaded (tract = 3830, with filters)\n"
     ]
    }
   ],
   "source": [
    "galaxies_3830 = openDC2.galaxies(tract_list = 3830)"
   ]
  },
  {
   "cell_type": "code",
   "execution_count": 4,
   "id": "c90b6299-b21c-4c0c-8d98-8dbf86b2c997",
   "metadata": {},
   "outputs": [
    {
     "data": {
      "text/html": [
       "<div><i>Table length=10</i>\n",
       "<table id=\"table140504491897952\" class=\"table-striped table-bordered table-condensed\">\n",
       "<thead><tr><th>mag_i_cModel</th><th>dec</th><th>ra</th></tr></thead>\n",
       "<thead><tr><th>float64</th><th>float64</th><th>float64</th></tr></thead>\n",
       "<tr><td>23.133443925168358</td><td>-37.18991297922315</td><td>61.15097218119344</td></tr>\n",
       "<tr><td>24.81546137072045</td><td>-37.18983185076904</td><td>61.1119169958291</td></tr>\n",
       "<tr><td>22.480805020172788</td><td>-37.19000288895217</td><td>61.04275857394543</td></tr>\n",
       "<tr><td>24.855490471646693</td><td>-37.18960386932029</td><td>61.032903675784766</td></tr>\n",
       "<tr><td>25.25303728015105</td><td>-37.18925408965603</td><td>61.093331415286535</td></tr>\n",
       "<tr><td>23.96840339904439</td><td>-37.18882280644829</td><td>61.07837947248255</td></tr>\n",
       "<tr><td>23.373456706475622</td><td>-37.18816108389595</td><td>61.16054579924273</td></tr>\n",
       "<tr><td>24.168456886416486</td><td>-37.18733672783328</td><td>61.21488525733434</td></tr>\n",
       "<tr><td>24.16470050117343</td><td>-37.188708482192624</td><td>61.00289461383805</td></tr>\n",
       "<tr><td>24.75926477552501</td><td>-37.18825576486568</td><td>61.0595416739775</td></tr>\n",
       "</table></div>"
      ],
      "text/plain": [
       "<Table length=10>\n",
       "   mag_i_cModel            dec                 ra        \n",
       "     float64             float64            float64      \n",
       "------------------ ------------------- ------------------\n",
       "23.133443925168358  -37.18991297922315  61.15097218119344\n",
       " 24.81546137072045  -37.18983185076904   61.1119169958291\n",
       "22.480805020172788  -37.19000288895217  61.04275857394543\n",
       "24.855490471646693  -37.18960386932029 61.032903675784766\n",
       " 25.25303728015105  -37.18925408965603 61.093331415286535\n",
       " 23.96840339904439  -37.18882280644829  61.07837947248255\n",
       "23.373456706475622  -37.18816108389595  61.16054579924273\n",
       "24.168456886416486  -37.18733672783328  61.21488525733434\n",
       " 24.16470050117343 -37.188708482192624  61.00289461383805\n",
       " 24.75926477552501  -37.18825576486568   61.0595416739775"
      ]
     },
     "metadata": {},
     "output_type": "display_data"
    }
   ],
   "source": [
    "display(galaxies_3830[:10])"
   ]
  },
  {
   "cell_type": "markdown",
   "id": "799ca8e6-9b18-4600-a117-ab29750cc9f8",
   "metadata": {},
   "source": [
    "Now you want the galaxies from this tract but with the neighbouring tracts' galaxies too (it is usefull when we calculate the critical radius)"
   ]
  },
  {
   "cell_type": "code",
   "execution_count": 5,
   "id": "51ef4ca3-4446-4dc8-b798-8839272959a1",
   "metadata": {
    "collapsed": true,
    "jupyter": {
     "outputs_hidden": true
    },
    "tags": []
   },
   "outputs": [
    {
     "name": "stdout",
     "output_type": "stream",
     "text": [
      "Default flags selected\n"
     ]
    },
    {
     "name": "stderr",
     "output_type": "stream",
     "text": [
      "/sps/lsst/users/namourou/conda_envs/conda_clone_021023/desc_v0/lib/python3.10/site-packages/GCRCatalogs/dc2_dm_catalog.py:43: RuntimeWarning: divide by zero encountered in log10\n",
      "  return -2.5 * np.log10(flux) + AB_mag_zp_wrt_nanoJansky\n",
      "/sps/lsst/users/namourou/conda_envs/conda_clone_021023/desc_v0/lib/python3.10/site-packages/GCRCatalogs/dc2_dm_catalog.py:43: RuntimeWarning: invalid value encountered in log10\n",
      "  return -2.5 * np.log10(flux) + AB_mag_zp_wrt_nanoJansky\n",
      "/sps/lsst/users/namourou/conda_envs/conda_clone_021023/desc_v0/lib/python3.10/site-packages/GCRCatalogs/dc2_dm_catalog.py:43: RuntimeWarning: divide by zero encountered in log10\n",
      "  return -2.5 * np.log10(flux) + AB_mag_zp_wrt_nanoJansky\n",
      "/sps/lsst/users/namourou/conda_envs/conda_clone_021023/desc_v0/lib/python3.10/site-packages/GCRCatalogs/dc2_dm_catalog.py:43: RuntimeWarning: invalid value encountered in log10\n",
      "  return -2.5 * np.log10(flux) + AB_mag_zp_wrt_nanoJansky\n",
      "/sps/lsst/users/namourou/conda_envs/conda_clone_021023/desc_v0/lib/python3.10/site-packages/GCRCatalogs/dc2_dm_catalog.py:43: RuntimeWarning: divide by zero encountered in log10\n",
      "  return -2.5 * np.log10(flux) + AB_mag_zp_wrt_nanoJansky\n",
      "/sps/lsst/users/namourou/conda_envs/conda_clone_021023/desc_v0/lib/python3.10/site-packages/GCRCatalogs/dc2_dm_catalog.py:43: RuntimeWarning: invalid value encountered in log10\n",
      "  return -2.5 * np.log10(flux) + AB_mag_zp_wrt_nanoJansky\n",
      "/sps/lsst/users/namourou/conda_envs/conda_clone_021023/desc_v0/lib/python3.10/site-packages/GCRCatalogs/dc2_dm_catalog.py:43: RuntimeWarning: divide by zero encountered in log10\n",
      "  return -2.5 * np.log10(flux) + AB_mag_zp_wrt_nanoJansky\n",
      "/sps/lsst/users/namourou/conda_envs/conda_clone_021023/desc_v0/lib/python3.10/site-packages/GCRCatalogs/dc2_dm_catalog.py:43: RuntimeWarning: invalid value encountered in log10\n",
      "  return -2.5 * np.log10(flux) + AB_mag_zp_wrt_nanoJansky\n",
      "/sps/lsst/users/namourou/conda_envs/conda_clone_021023/desc_v0/lib/python3.10/site-packages/GCRCatalogs/dc2_dm_catalog.py:43: RuntimeWarning: divide by zero encountered in log10\n",
      "  return -2.5 * np.log10(flux) + AB_mag_zp_wrt_nanoJansky\n",
      "/sps/lsst/users/namourou/conda_envs/conda_clone_021023/desc_v0/lib/python3.10/site-packages/GCRCatalogs/dc2_dm_catalog.py:43: RuntimeWarning: invalid value encountered in log10\n",
      "  return -2.5 * np.log10(flux) + AB_mag_zp_wrt_nanoJansky\n",
      "/sps/lsst/users/namourou/conda_envs/conda_clone_021023/desc_v0/lib/python3.10/site-packages/GCRCatalogs/dc2_dm_catalog.py:43: RuntimeWarning: divide by zero encountered in log10\n",
      "  return -2.5 * np.log10(flux) + AB_mag_zp_wrt_nanoJansky\n",
      "/sps/lsst/users/namourou/conda_envs/conda_clone_021023/desc_v0/lib/python3.10/site-packages/GCRCatalogs/dc2_dm_catalog.py:43: RuntimeWarning: invalid value encountered in log10\n",
      "  return -2.5 * np.log10(flux) + AB_mag_zp_wrt_nanoJansky\n",
      "/sps/lsst/users/namourou/conda_envs/conda_clone_021023/desc_v0/lib/python3.10/site-packages/GCRCatalogs/dc2_dm_catalog.py:43: RuntimeWarning: divide by zero encountered in log10\n",
      "  return -2.5 * np.log10(flux) + AB_mag_zp_wrt_nanoJansky\n",
      "/sps/lsst/users/namourou/conda_envs/conda_clone_021023/desc_v0/lib/python3.10/site-packages/GCRCatalogs/dc2_dm_catalog.py:43: RuntimeWarning: invalid value encountered in log10\n",
      "  return -2.5 * np.log10(flux) + AB_mag_zp_wrt_nanoJansky\n",
      "/sps/lsst/users/namourou/conda_envs/conda_clone_021023/desc_v0/lib/python3.10/site-packages/GCRCatalogs/dc2_dm_catalog.py:43: RuntimeWarning: divide by zero encountered in log10\n",
      "  return -2.5 * np.log10(flux) + AB_mag_zp_wrt_nanoJansky\n",
      "/sps/lsst/users/namourou/conda_envs/conda_clone_021023/desc_v0/lib/python3.10/site-packages/GCRCatalogs/dc2_dm_catalog.py:43: RuntimeWarning: invalid value encountered in log10\n",
      "  return -2.5 * np.log10(flux) + AB_mag_zp_wrt_nanoJansky\n",
      "/sps/lsst/users/namourou/conda_envs/conda_clone_021023/desc_v0/lib/python3.10/site-packages/GCRCatalogs/dc2_dm_catalog.py:43: RuntimeWarning: divide by zero encountered in log10\n",
      "  return -2.5 * np.log10(flux) + AB_mag_zp_wrt_nanoJansky\n",
      "/sps/lsst/users/namourou/conda_envs/conda_clone_021023/desc_v0/lib/python3.10/site-packages/GCRCatalogs/dc2_dm_catalog.py:43: RuntimeWarning: invalid value encountered in log10\n",
      "  return -2.5 * np.log10(flux) + AB_mag_zp_wrt_nanoJansky\n"
     ]
    },
    {
     "name": "stdout",
     "output_type": "stream",
     "text": [
      "DC2 catalog loaded (tract = ['3830', '4029', '4028', '4027', '3831', '3829', '3637', '3636', '3635'], with filters)\n"
     ]
    }
   ],
   "source": [
    "galaxies_3830_nghb = openDC2.galaxies_with_neighbours_tracts(tract_list=3830)"
   ]
  },
  {
   "cell_type": "code",
   "execution_count": 10,
   "id": "ff80c7af-73db-439d-982d-1bd144cfc7f9",
   "metadata": {},
   "outputs": [
    {
     "data": {
      "text/plain": [
       "<matplotlib.legend.Legend at 0x7fc93599f250>"
      ]
     },
     "execution_count": 10,
     "metadata": {},
     "output_type": "execute_result"
    },
    {
     "name": "stderr",
     "output_type": "stream",
     "text": [
      "/sps/lsst/users/namourou/conda_envs/conda_clone_021023/desc_v0/lib/python3.10/site-packages/IPython/core/events.py:89: UserWarning: Creating legend with loc=\"best\" can be slow with large amounts of data.\n",
      "  func(*args, **kwargs)\n",
      "/sps/lsst/users/namourou/conda_envs/conda_clone_021023/desc_v0/lib/python3.10/site-packages/IPython/core/pylabtools.py:152: UserWarning: Creating legend with loc=\"best\" can be slow with large amounts of data.\n",
      "  fig.canvas.print_figure(bytes_io, **kw)\n"
     ]
    },
    {
     "data": {
      "image/png": "[encoded data removed]",
      "text/plain": [
       "<Figure size 640x480 with 1 Axes>"
      ]
     },
     "metadata": {},
     "output_type": "display_data"
    }
   ],
   "source": [
    "import matplotlib.pyplot as plt\n",
    "plt.scatter(galaxies_3830_nghb[\"ra\"], galaxies_3830_nghb[\"dec\"], s=0.01, label = \"3830\")\n",
    "plt.scatter(galaxies_3830[\"ra\"], galaxies_3830[\"dec\"], s= 0.01, label = \"neighbours\")\n",
    "plt.xlabel(\"ra\", fontsize = 13)\n",
    "plt.ylabel(\"dec\", fontsize = 13)\n",
    "plt.legend()"
   ]
  },
  {
   "cell_type": "markdown",
   "id": "067369ba-a38a-4a5d-915f-99e953a3370f",
   "metadata": {},
   "source": [
    "Get stars on the same tract"
   ]
  },
  {
   "cell_type": "code",
   "execution_count": 8,
   "id": "1381c7fc-ab78-46b1-bb51-15aac64d1c1f",
   "metadata": {},
   "outputs": [
    {
     "name": "stdout",
     "output_type": "stream",
     "text": [
      "Default flags selected\n"
     ]
    },
    {
     "name": "stderr",
     "output_type": "stream",
     "text": [
      "/sps/lsst/users/namourou/conda_envs/conda_clone_021023/desc_v0/lib/python3.10/site-packages/GCRCatalogs/dc2_dm_catalog.py:43: RuntimeWarning: divide by zero encountered in log10\n",
      "  return -2.5 * np.log10(flux) + AB_mag_zp_wrt_nanoJansky\n",
      "/sps/lsst/users/namourou/conda_envs/conda_clone_021023/desc_v0/lib/python3.10/site-packages/GCRCatalogs/dc2_dm_catalog.py:43: RuntimeWarning: invalid value encountered in log10\n",
      "  return -2.5 * np.log10(flux) + AB_mag_zp_wrt_nanoJansky\n"
     ]
    },
    {
     "name": "stdout",
     "output_type": "stream",
     "text": [
      "DC2 catalog loaded (tract = 3830, with filters)\n"
     ]
    }
   ],
   "source": [
    "stars_3830 = openDC2.stars(tract_list = 3830)"
   ]
  },
  {
   "cell_type": "markdown",
   "id": "29ea66ed-08b6-48f2-94d7-2b18ed42fb91",
   "metadata": {},
   "source": [
    "Bin those stars in magnitude bins "
   ]
  },
  {
   "cell_type": "code",
   "execution_count": 11,
   "id": "3327700f-dc01-462b-99ca-c2f92182dc93",
   "metadata": {},
   "outputs": [],
   "source": [
    "stars_3830_binned_1 = openDC2.bin_cat(stars_3830) # Basic way to do it\n",
    "stars_3830_binned_2 = openDC2.bin_cat(stars_3830, quantities = \"mag_i_cModel\", bins = [0,17,18,19,20,23,25]) # different customizable config"
   ]
  },
  {
   "cell_type": "code",
   "execution_count": 14,
   "id": "cc302d93-c7ae-4309-bce5-937a52f6e2a2",
   "metadata": {},
   "outputs": [
    {
     "data": {
      "text/plain": [
       "[<Table length=453>\n",
       "    mag_i_cModel            dec                 ra        \n",
       "      float64             float64            float64      \n",
       " ------------------ ------------------- ------------------\n",
       " 16.708274543817815  -37.18135194545678 61.100616646056665\n",
       " 16.899994157489424  -37.15975944183774 61.208801582982545\n",
       " 16.921982270243284 -37.142530557011455  61.07523009903934\n",
       " 16.677219574477366  -37.14180990300278 61.139865763510244\n",
       "  16.85688639425949  -37.07140841009842 61.002200971511044\n",
       " 16.951996059128227   -37.0572798753503  61.03033565512249\n",
       " 16.332333976124787  -36.95523056949755 61.059472659745225\n",
       " 16.244064889745225  -36.94900992396855  61.08302147246998\n",
       "  16.57313094391674  -36.92410627787951  61.05431533356884\n",
       " 16.170652913161355  -36.90618759185513  61.09605260867054\n",
       "                ...                 ...                ...\n",
       " 16.830343753672363 -36.000120671721824 59.547855489212274\n",
       " 16.393481748237548  -35.97641899795757  59.43524782773983\n",
       "  16.58822948818313 -35.968171504805724 59.407258128936526\n",
       " 16.377754645721993  -35.96708681927521 59.578345171221656\n",
       "  16.47520074192595  -35.93302120672906 59.472170716685994\n",
       "  16.68621443718383 -35.922239515892876  59.60364727206849\n",
       " 16.460954963868456 -35.842426904410324  59.41153075468822\n",
       "  16.90311017657174  -35.81484064821713  59.39113929321121\n",
       " 16.136848553915144  -35.70735839162467 59.440481567677956\n",
       " 16.189026095130657  -35.70418188806886  59.60397940623865,\n",
       " <Table length=779>\n",
       "    mag_i_cModel            dec                 ra        \n",
       "      float64             float64            float64      \n",
       " ------------------ ------------------- ------------------\n",
       " 17.583906642003708 -37.177416134299826  61.15012305309624\n",
       "  17.23006171348003 -37.163858343480605  61.13779177925678\n",
       " 17.125598110688223  -37.14207403845502  61.17630003790019\n",
       "  17.38423089008157 -37.152501286035076 61.160681495229205\n",
       " 17.840710920331325  -37.12476377503316   61.0877682446583\n",
       "  17.75342242244174  -37.12140377771058  61.05909010708331\n",
       " 17.741825286495402  -37.07237983540038 61.095578160325644\n",
       "  17.70104047041059 -37.072258656084315 61.187658592265336\n",
       " 17.257477061070887  -37.03424099700331  61.18575271153847\n",
       "  17.19464987768164 -37.016408361321616  61.01736713426357\n",
       "                ...                 ...                ...\n",
       " 17.136914701943812  -35.85305076285353  59.55419115509254\n",
       "  17.97878788811325 -35.835591961252696  59.58264462407116\n",
       " 17.379801265872636  -35.81627119512947   59.4639258249095\n",
       " 17.691514248161653  -35.75756266125432  59.39249146728373\n",
       "  17.07237983052371   -35.7551087283864 59.565091487544585\n",
       "  17.78580144441613 -35.730758840687784   59.4333469435346\n",
       "  17.99115682864324 -35.732295707016604 59.495144493870576\n",
       " 17.612185282699752  -35.72819717885225 59.492962595352864\n",
       "  17.13165573285006 -35.714712262984165  59.52800872878048\n",
       "   17.4521213506766  -35.70530577092892  59.50485558883594,\n",
       " <Table length=1197>\n",
       "    mag_i_cModel            dec                 ra        \n",
       "      float64             float64            float64      \n",
       " ------------------ ------------------- ------------------\n",
       " 18.984393286665757  -37.18862789020938  61.04702694857746\n",
       "  18.09230214598197  -37.18914711253443 61.101940797903374\n",
       " 18.112047111874443  -37.16273109020503 61.106353193200526\n",
       "  18.08612430912251  -37.15973743195101   61.1467639954578\n",
       "  18.85757237249635  -37.15293975620389   61.2014284331873\n",
       " 18.368945403684087  -37.14158546738255  61.04732931171324\n",
       " 18.913571430074903 -37.137542362959444  61.11737010267521\n",
       " 18.630106269537357   -37.1319411956586  61.17743306320358\n",
       "  18.05400091796389 -37.125623225460785  61.19827397537522\n",
       " 18.279218583586843  -37.12656658393736  61.16548772013935\n",
       "                ...                 ...                ...\n",
       " 18.987234171921493  -35.78734104631537   59.4602052921719\n",
       " 18.973772539793146  -35.77798325470769  59.45730927457804\n",
       " 18.644711329555875  -35.76949784830512  59.51961074774171\n",
       " 18.977615897597055  -35.76258263766503 59.530979984119156\n",
       " 18.068990752912768  -35.73439566738562  59.59242614972929\n",
       " 18.562988248441645  -35.73839624399345  59.49535388046509\n",
       " 18.737889849416387 -35.732083866710916  59.50701629454252\n",
       "  18.26094143804768  -35.71231363139825  59.59093594785574\n",
       " 18.372836176297042 -35.714084447751624 59.420264048497955\n",
       "  18.04481831168018  -35.70578978132215  59.56263954969336,\n",
       " <Table length=1478>\n",
       "    mag_i_cModel            dec                 ra        \n",
       "      float64             float64            float64      \n",
       " ------------------ ------------------- ------------------\n",
       " 19.367287526473106  -37.18509868294537 61.215606593194735\n",
       "  19.16267032638832 -37.188864232382116   61.2054637110189\n",
       " 19.421558390993674 -37.185296760309996  61.16605581878496\n",
       "  19.08491070943755  -37.18217077889283  61.20453601522238\n",
       " 19.747288740588488 -37.141608420194224   61.2075703178837\n",
       "  19.41357747067652 -37.136686203413284  61.12605192740221\n",
       "  19.81649651704513 -37.131563642954376 61.170741201901954\n",
       " 19.017255724476396  -37.11775256990658  61.12621585738119\n",
       " 19.588801099607934  -37.11528354723828 61.011871874069264\n",
       " 19.139985619337516   -37.1148136328169  61.15923347755651\n",
       "                ...                 ...                ...\n",
       "  19.90462101840553  -35.77202568543531 59.579879226818306\n",
       "  19.26189153745726  -35.76473253753453  59.48357604854298\n",
       " 19.154220818541134  -35.76110955472608  59.49073897962217\n",
       " 19.280464612466304   -35.7551101466056  59.53526681412024\n",
       "  19.67070736052842  -35.75161316116358  59.41539045147335\n",
       "  19.12231089011084  -35.72993810974121  59.59318328804644\n",
       " 19.087402476299324  -35.73851701590333 59.400443134317335\n",
       " 19.010105476978694  -35.71723881844168  59.44674191298618\n",
       " 19.025284806055318 -35.718906286816456 59.534015036042476\n",
       "  19.31697120083421 -35.711437822983136   59.5628267300093,\n",
       " <Table length=6959>\n",
       "    mag_i_cModel            dec                 ra        \n",
       "      float64             float64            float64      \n",
       " ------------------ ------------------- ------------------\n",
       "  20.46773684506347  -37.15891136208661  61.20266165919405\n",
       " 22.808491804448103 -37.153549020631274  61.10578563143932\n",
       " 20.239938681869937   -37.1488089961602  61.19962087934968\n",
       " 21.351574173176495  -37.14918301504282 61.101339367170645\n",
       "    22.872224726153  -37.14046566265361 61.022409057702774\n",
       " 20.947736802836125  -37.13857527046626    61.122566762705\n",
       "  22.37384893684157  -37.07422423132972 61.030961456240206\n",
       " 21.685830354348866  -37.18627714360368  61.03226155889908\n",
       " 20.558757292023575  -37.18390580014615  61.00530425269566\n",
       "   21.3491730417634 -37.180766537405134   61.1607089016376\n",
       "                ...                 ...                ...\n",
       "  22.07864681710953  -35.70870289161121 59.436622517434564\n",
       " 20.915537708505987  -35.72058804262328  59.51809014474575\n",
       "  21.68828058634005  -35.71860011716654  59.48217970982373\n",
       " 22.651806935942403  -35.71849090974761  59.40166675602654\n",
       " 22.185301953482842  -35.71663011418984 59.539301788272546\n",
       "  20.96337580072761  -35.71747848903431 59.616497948925435\n",
       " 20.301793687106855     -35.71102452978 59.608731337507415\n",
       "  21.94737240866619 -35.711200731714015 59.543288620248944\n",
       " 22.933235694113055 -35.706695984385675  59.48011484642168\n",
       " 20.256289414201447  -35.70303213743449  59.51539614619786,\n",
       " <Table length=13010>\n",
       "    mag_i_cModel            dec                 ra        \n",
       "      float64             float64            float64      \n",
       " ------------------ ------------------- ------------------\n",
       " 23.678383562232284  -37.17364548415077  61.20691289669812\n",
       " 24.235533257692122 -37.132348334081556  61.19917500221752\n",
       " 24.717711350072392 -37.130161875961065  61.15629756154544\n",
       " 24.086989842275074  -37.12426916653104 61.158885171892905\n",
       " 23.514456532439734 -37.118590783775694  61.14606412455534\n",
       " 24.043760484035396 -37.101363368151816  61.19539630067478\n",
       " 24.724109756939086  -37.10104248558657  61.21775329352066\n",
       " 24.905353424940024  -37.09833482738703  61.08757699233136\n",
       " 23.878234774072588  -37.09466465323728 61.094077341178846\n",
       " 24.817943231796786  -37.09148825873297  61.21053738898457\n",
       "                ...                 ...                ...\n",
       " 24.698455822789505  -35.71155176580453   59.4472512565366\n",
       "  23.72100566517298 -35.710758140009695 59.494065578041585\n",
       "  23.35488403131015  -35.70962837969947  59.44699934670684\n",
       " 24.826645026665354  -35.70949411688395  59.41327650678229\n",
       " 24.993766016985425  -35.70978688537579  59.58546837210823\n",
       "  24.29021453125221 -35.705852548645915  59.39088851507051\n",
       "     24.64078470559  -35.70600565689216  59.42570605626963\n",
       "  24.45651564159584  -35.70524979756541   59.4478586284408\n",
       "  24.81079542532084  -35.70556745327012 59.533127858975604\n",
       "  24.92978960829085  -35.70294716866447  59.42715068855689]"
      ]
     },
     "execution_count": 14,
     "metadata": {},
     "output_type": "execute_result"
    }
   ],
   "source": [
    "stars_3830_binned_2"
   ]
  },
  {
   "cell_type": "code",
   "execution_count": null,
   "id": "8e2e60f7-a7b3-4c4c-8e2a-ed4f075b4434",
   "metadata": {},
   "outputs": [],
   "source": []
  },
  {
   "cell_type": "code",
   "execution_count": null,
   "id": "1192117e-c9da-4f93-b8c8-8f14982ffd2a",
   "metadata": {},
   "outputs": [],
   "source": []
  }
 ],
 "metadata": {
  "kernelspec": {
   "display_name": "desc",
   "language": "python",
   "name": "desc"
  },
  "language_info": {
   "codemirror_mode": {
    "name": "ipython",
    "version": 3
   },
   "file_extension": ".py",
   "mimetype": "text/x-python",
   "name": "python",
   "nbconvert_exporter": "python",
   "pygments_lexer": "ipython3",
   "version": "3.10.9"
  }
 },
 "nbformat": 4,
 "nbformat_minor": 5
}
