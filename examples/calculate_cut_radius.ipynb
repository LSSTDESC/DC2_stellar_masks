{
 "cells": [
  {
   "cell_type": "code",
   "execution_count": null,
   "id": "9f788917-8e46-4d42-8bf2-baacadef21d3",
   "metadata": {},
   "outputs": [],
   "source": [
    "import sys, os\n",
    "\n",
    "sys.path.append(\"../bright_objects_masks\")\n",
    "import radius_study\n",
    "import warnings\n",
    "import numpy as np\n",
    "\n",
    "warnings.filterwarnings(\"ignore\")"
   ]
  },
  {
   "cell_type": "markdown",
   "id": "3c037e87-cb00-4146-9987-f95f49b6a071",
   "metadata": {},
   "source": [
    "In this notebook, we show how to compute the density ratio as a function of radius around stars.  \n",
    "As a reminder, we have density_ratio(r) = density(r)/mean_catalog_density. "
   ]
  },
  {
   "cell_type": "markdown",
   "id": "10cf81f4-351a-479e-aebe-3d575303e74a",
   "metadata": {},
   "source": [
    "Basic way to compute density_ratio(r). We need to configure a configuration file stored in the config folder. To do so you can use the gen_config.py"
   ]
  },
  {
   "cell_type": "code",
   "execution_count": null,
   "id": "95d0d77b-89d3-4233-82f9-639963b5a883",
   "metadata": {},
   "outputs": [],
   "source": [
    "curr_dir = os.getcwd()\n",
    "critical_radius = radius_study.Critical_radius(\n",
    "    config_file=curr_dir + \"/../config/config_examples.yaml\"\n",
    ")"
   ]
  },
  {
   "cell_type": "markdown",
   "id": "8b00ea83-6d13-4e13-ab04-8b2117b73ba3",
   "metadata": {},
   "source": [
    "First, we calculate the density ratio in bins of theta defined in the config file. If the lenght of the tract_list is greater than two, then multiprocessing is applied to calculate density ratio tract by tract before merging it."
   ]
  },
  {
   "cell_type": "code",
   "execution_count": null,
   "id": "bb0c2a9b-1ce8-4cdf-90a5-af37ca11c49c",
   "metadata": {
    "tags": []
   },
   "outputs": [],
   "source": [
    "density_glob = critical_radius.get_density_ratio()"
   ]
  },
  {
   "cell_type": "code",
   "execution_count": null,
   "id": "af8cddd0-f966-40e1-bdff-5d26d0cef303",
   "metadata": {
    "tags": []
   },
   "outputs": [],
   "source": [
    "print(density_glob)"
   ]
  },
  {
   "cell_type": "markdown",
   "id": "68c5ca86-f4f6-4879-90d0-213fee8018b0",
   "metadata": {},
   "source": [
    "Get the binning used for the calculations"
   ]
  },
  {
   "cell_type": "code",
   "execution_count": null,
   "id": "8c08f6a7-1352-431a-8c89-9ee81ee630e5",
   "metadata": {},
   "outputs": [],
   "source": [
    "theta_bins = critical_radius.theta_bins"
   ]
  },
  {
   "cell_type": "markdown",
   "id": "642f04db-a35f-4cdd-83e3-2509610f48f6",
   "metadata": {},
   "source": [
    "If density_ratio is calculated, it can directly be given to get_critical_radius. Otherwize the method will do the calculation by itself."
   ]
  },
  {
   "cell_type": "markdown",
   "id": "684d3cf0-ef37-4d60-9205-70f3488b8b87",
   "metadata": {},
   "source": [
    "\"get_critical_radius\" calculates the radius of the circle within the cut will be performed depending on the brigthness of the star."
   ]
  },
  {
   "cell_type": "markdown",
   "id": "bff2ac24-32e6-45b7-858b-32e4d07d2859",
   "metadata": {},
   "source": [
    "Here we give critical density but it is also an argument of config file"
   ]
  },
  {
   "cell_type": "code",
   "execution_count": null,
   "id": "655e430d-677d-41fe-8471-b832305f4670",
   "metadata": {
    "tags": []
   },
   "outputs": [],
   "source": [
    "critical_radius_value = critical_radius.get_critical_radius(\n",
    "    density_ratio=density_glob, critical_density=0.9\n",
    ")"
   ]
  },
  {
   "cell_type": "code",
   "execution_count": null,
   "id": "54e7f7b5-3f7d-4f96-9968-8fdb503bd3f1",
   "metadata": {},
   "outputs": [],
   "source": [
    "print(critical_radius_value)"
   ]
  },
  {
   "cell_type": "markdown",
   "id": "cff35da0-08d6-41ef-8129-6141402077cf",
   "metadata": {},
   "source": [
    "Here you can see the densityratio profile for the two selected bins (red vertical line is the cut radius). Profiles might look weird on single tracts due to lack of statistics but it gets smoother when you calculate it on several tracts"
   ]
  },
  {
   "cell_type": "code",
   "execution_count": null,
   "id": "0d14a0cd-a141-4d27-9de3-e95a078a7602",
   "metadata": {
    "tags": []
   },
   "outputs": [],
   "source": [
    "import matplotlib.pyplot as plt\n",
    "\n",
    "for i in range(len(density_glob)):\n",
    "    plt.close()\n",
    "    plt.plot(\n",
    "        theta_bins,\n",
    "        density_glob[i],\n",
    "        label=\"d(r,mag)\",\n",
    "        linestyle=\"\",\n",
    "        marker=\"+\",\n",
    "        markersize=5,\n",
    "    )\n",
    "    plt.axvline(\n",
    "        critical_radius_value[i],\n",
    "        color=\"red\",\n",
    "        linestyle=\"--\",\n",
    "        label=f'r_lim={critical_radius_value[i]}\"',\n",
    "    )\n",
    "    plt.axhline(\n",
    "        0.9,\n",
    "        color=\"black\",\n",
    "        linestyle=\"--\",\n",
    "        label=f\"d_crit={0.9}\",\n",
    "    )\n",
    "    plt.xlabel(\"radius [arcsec]\")\n",
    "    plt.ylabel(\"density_ratio\")\n",
    "    plt.xscale(\"log\")\n",
    "    plt.legend()\n",
    "    plt.show()"
   ]
  },
  {
   "cell_type": "markdown",
   "id": "fb5b06e9-f40e-415b-8221-44b85ae171da",
   "metadata": {},
   "source": [
    "For further studies and modularity, we can do masks with one radius for each star but we need a different configuration. Here we split the sample in two bins (10<mag_i_truth<11 and 11<mag_i_truth<12)"
   ]
  },
  {
   "cell_type": "code",
   "execution_count": null,
   "id": "f27bdb35-d2f0-40d3-b3a5-4893eef41e1d",
   "metadata": {},
   "outputs": [],
   "source": [
    "critical_radius = radius_study.Critical_radius(\n",
    "    config_file=curr_dir + \"/../config/config_examples_unique_stars.yaml\"\n",
    ")"
   ]
  },
  {
   "cell_type": "code",
   "execution_count": null,
   "id": "5b88dcbf-3146-4c92-9dd5-a868d787081f",
   "metadata": {
    "tags": []
   },
   "outputs": [],
   "source": [
    "ra, dec, unique_density_ratio = critical_radius.get_unique_density_ratio()"
   ]
  },
  {
   "cell_type": "code",
   "execution_count": null,
   "id": "25627387-39a6-47d4-a4c1-828808e272af",
   "metadata": {
    "tags": []
   },
   "outputs": [],
   "source": [
    "print(unique_density_ratio)"
   ]
  },
  {
   "cell_type": "markdown",
   "id": "f3f2a9e4-6817-4052-9896-cfea336f34a1",
   "metadata": {},
   "source": [
    "Same as before : we can easily get critical radius values for each star"
   ]
  },
  {
   "cell_type": "code",
   "execution_count": null,
   "id": "f958864c-1762-46a2-82cc-1f13e529ed6b",
   "metadata": {},
   "outputs": [],
   "source": [
    "ra_l, dec_l, crit_radius_l = [], [], []\n",
    "for i in range(len(unique_density_ratio)):\n",
    "    ra2, dec2, unique_crit_radius = critical_radius.get_unique_critical_radius(\n",
    "        ra=ra, dec=dec, density_ratio=unique_density_ratio[i]\n",
    "    )\n",
    "    ra_l.append(ra2)\n",
    "    dec_l.append(dec2)\n",
    "    crit_radius_l.append(unique_crit_radius)"
   ]
  },
  {
   "cell_type": "code",
   "execution_count": null,
   "id": "1cf99cef-9a99-4fb8-ac0c-f8e5b504f724",
   "metadata": {
    "tags": []
   },
   "outputs": [],
   "source": [
    "crit_radius_l"
   ]
  },
  {
   "cell_type": "markdown",
   "id": "60409849-355e-4bf2-a5e9-83fedd925640",
   "metadata": {},
   "source": [
    "As there are many stars we won't show every profile here but we can make a distribution of radius"
   ]
  },
  {
   "cell_type": "code",
   "execution_count": null,
   "id": "0a023fc4-d6d9-4ec0-802d-1d7dd6e14ae0",
   "metadata": {},
   "outputs": [],
   "source": [
    "binned_quantity = critical_radius.binned_quantity\n",
    "bins = critical_radius.bins"
   ]
  },
  {
   "cell_type": "code",
   "execution_count": null,
   "id": "46eaf16d-fdff-435e-8ae2-daaee6fe7e4a",
   "metadata": {},
   "outputs": [],
   "source": [
    "for i in range(len(crit_radius_l)):\n",
    "    plt.hist(\n",
    "        crit_radius_l[i],\n",
    "        bins=np.logspace(np.log10(min(theta_bins)), np.log10(max(theta_bins)), 25),\n",
    "        histtype=\"step\",\n",
    "        label=f\"{bins[i]} < {binned_quantity} < {bins[i+1]}\",\n",
    "    )\n",
    "    plt.xscale(\"log\")\n",
    "    plt.xlabel(r\"$\\theta_{crit}$['']\", fontsize=13)\n",
    "    plt.ylabel(\"Number of stars\", fontsize=13)\n",
    "    plt.title(\"Distribution of radiuses for two bins of bright stars\", fontsize=15)\n",
    "    plt.legend()"
   ]
  }
 ],
 "metadata": {
  "kernelspec": {
   "display_name": "desc",
   "language": "python",
   "name": "desc"
  },
  "language_info": {
   "codemirror_mode": {
    "name": "ipython",
    "version": 3
   },
   "file_extension": ".py",
   "mimetype": "text/x-python",
   "name": "python",
   "nbconvert_exporter": "python",
   "pygments_lexer": "ipython3",
   "version": "3.10.9"
  }
 },
 "nbformat": 4,
 "nbformat_minor": 5
}
