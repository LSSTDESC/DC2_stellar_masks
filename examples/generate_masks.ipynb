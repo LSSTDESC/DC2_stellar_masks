{
 "cells": [
  {
   "cell_type": "code",
   "execution_count": null,
   "id": "e9435778-2833-432d-9339-aef137462297",
   "metadata": {},
   "outputs": [],
   "source": [
    "import sys, os\n",
    "\n",
    "sys.path.append(\"../bright_objects_masks\")\n",
    "import generate_masks\n",
    "import warnings\n",
    "import matplotlib.pyplot as plt\n",
    "\n",
    "warnings.filterwarnings(\"ignore\")"
   ]
  },
  {
   "cell_type": "markdown",
   "id": "35725290-606c-40ac-90eb-e923b25123b2",
   "metadata": {},
   "source": [
    "We didn't specify any density_ratio in the config file. This will be calculated in the init of Masks class as well as the radius value."
   ]
  },
  {
   "cell_type": "code",
   "execution_count": null,
   "id": "045599f8-93f1-4ffd-9db8-49486e639593",
   "metadata": {
    "tags": []
   },
   "outputs": [],
   "source": [
    "curr_dir = os.getcwd()\n",
    "mask_gen = generate_masks.Masks(\n",
    "    config_file=curr_dir + \"/../config/config_examples.yaml\"\n",
    ")"
   ]
  },
  {
   "cell_type": "markdown",
   "id": "e49503a0-8bf1-4961-bdae-31e655d8ea36",
   "metadata": {},
   "source": [
    "Now we create the healsparse map."
   ]
  },
  {
   "cell_type": "code",
   "execution_count": null,
   "id": "784b4d17-f3b9-4659-bdc5-1254ff88e41d",
   "metadata": {
    "tags": []
   },
   "outputs": [],
   "source": [
    "mask = mask_gen.create_healsparse_masks()"
   ]
  },
  {
   "cell_type": "markdown",
   "id": "07a38c9e-f394-4986-b346-f87951287c24",
   "metadata": {},
   "source": [
    "Save it"
   ]
  },
  {
   "cell_type": "code",
   "execution_count": null,
   "id": "83f6c9ca-6a53-4969-81b3-050a0e8974fe",
   "metadata": {},
   "outputs": [],
   "source": [
    "mask_gen.write_heaslparse_mask(mask)"
   ]
  },
  {
   "cell_type": "code",
   "execution_count": null,
   "id": "591f0425-d46d-4a5b-a301-b17f9ca855ea",
   "metadata": {
    "tags": []
   },
   "outputs": [],
   "source": [
    "outpath = mask_gen.outpath"
   ]
  },
  {
   "cell_type": "markdown",
   "id": "25998ebd-294a-48be-bf53-9d4dbdbeacf7",
   "metadata": {},
   "source": [
    "We read it back to show how to do but it is not mandatory as we computed it in upper cells."
   ]
  },
  {
   "cell_type": "code",
   "execution_count": null,
   "id": "b828918a-ed13-4ba7-8dff-9896fbf02091",
   "metadata": {},
   "outputs": [],
   "source": [
    "import healsparse as hsp\n",
    "\n",
    "mask = hsp.HealSparseMap.read(outpath + \"bo_masks.hs\")"
   ]
  },
  {
   "cell_type": "markdown",
   "id": "2d3e23e1-e309-47ce-bdbe-988f2bbfe815",
   "metadata": {},
   "source": [
    "The best way to vizualize masks is to use the skyproj package."
   ]
  },
  {
   "cell_type": "code",
   "execution_count": null,
   "id": "6b8b77d1-49b6-43a2-8997-c99c4275faa2",
   "metadata": {},
   "outputs": [],
   "source": [
    "import skyproj\n",
    "\n",
    "fig, ax = plt.subplots(figsize=(8, 5))\n",
    "sp = skyproj.McBrydeSkyproj(ax=ax)\n",
    "im, lon_raster, lat_raster, values_raster = sp.draw_hspmap(\n",
    "    mask, vmin=0, vmax=1, lon_range=[59, 62], lat_range=[-37, -35], cmap=\"Dark2\"\n",
    ")\n",
    "# for star in stars_dc2[(stars_dc2['ra']>60)&(stars_dc2['ra']<60.5)&(stars_dc2['dec']<-36)&(stars_dc2['dec']>-36.4)]:\n",
    "#    sp.draw_polygon([star['ra']+0.0001, star['ra']-0.0001], [star['dec']+0.0001, star['dec']-0.0001], alpha=.7, facecolor = 'red', edgecolor='red')\n",
    "plt.annotate(\n",
    "    \"Masks vs stars\",\n",
    "    xy=(0.5, 1.03),\n",
    "    xycoords=\"axes fraction\",\n",
    "    xytext=(0, 10),\n",
    "    textcoords=\"offset points\",\n",
    "    ha=\"center\",\n",
    "    va=\"bottom\",\n",
    "    fontsize=15,\n",
    ")\n",
    "plt.colorbar()\n",
    "plt.show()"
   ]
  },
  {
   "cell_type": "markdown",
   "id": "61335304-8477-43d1-a4f7-5557633d16f3",
   "metadata": {},
   "source": [
    "We can either compare to some footprint"
   ]
  },
  {
   "cell_type": "code",
   "execution_count": null,
   "id": "fea921b8-0586-4251-a8d1-32e810195edc",
   "metadata": {},
   "outputs": [],
   "source": [
    "import GCRCatalogs\n",
    "from GCRCatalogs.helpers.tract_catalogs import tract_filter\n",
    "from astropy.table import Table\n",
    "import numpy as np\n",
    "\n",
    "name = \"dc2_object_run2.2i_dr6_v2_with_addons_v2\"\n",
    "catalog = GCRCatalogs.load_catalog(name)\n",
    "dc2_table = Table(\n",
    "    catalog.get_quantities(\n",
    "        [\n",
    "            \"ra\",\n",
    "            \"dec\",\n",
    "            \"extendedness\",\n",
    "            \"mag_i_cModel\",\n",
    "            \"ID\",\n",
    "            \"id\",\n",
    "            \"id_truth\",\n",
    "            \"cosmodc2_id_truth\",\n",
    "            \"truth_type\",\n",
    "            \"mag_i_truth\",\n",
    "            \"clean\",\n",
    "            \"blendedness\",\n",
    "        ],\n",
    "        native_filters=[tract_filter(3830)],\n",
    "    )\n",
    ")\n",
    "matteo_gals = dc2_table[\n",
    "    (dc2_table[\"extendedness\"] == 1)\n",
    "    & (dc2_table[\"clean\"] == True)\n",
    "    & (np.isfinite(dc2_table[\"mag_i_cModel\"]))\n",
    "]\n",
    "bright_stars = dc2_table[\n",
    "    (dc2_table[\"extendedness\"] != 1)\n",
    "    & (dc2_table[\"clean\"] == False)\n",
    "    & (np.isnan(dc2_table[\"mag_i_cModel\"]))\n",
    "    & (dc2_table[\"mag_i_truth\"] < 12)\n",
    "]"
   ]
  },
  {
   "cell_type": "code",
   "execution_count": null,
   "id": "953ace64-5ae3-417f-826b-e35e7b2c171b",
   "metadata": {},
   "outputs": [],
   "source": [
    "fig, ax = plt.subplots(figsize=(8, 5))\n",
    "sp = skyproj.McBrydeSkyproj(ax=ax)\n",
    "im, lon_raster, lat_raster, values_raster = sp.draw_hspmap(\n",
    "    mask,\n",
    "    vmin=0,\n",
    "    vmax=1,\n",
    "    lon_range=[max(matteo_gals[\"ra\"]), min(matteo_gals[\"ra\"])],\n",
    "    lat_range=[min(matteo_gals[\"dec\"]), max(matteo_gals[\"dec\"])],\n",
    "    cmap=\"Dark2\",\n",
    ")\n",
    "sp.plot(matteo_gals[\"ra\"], matteo_gals[\"dec\"], \"r.\", markersize=0.05, alpha=0.1)\n",
    "sp.plot(bright_stars[\"ra\"], bright_stars[\"dec\"], \"b.\", markersize=2, alpha=1)\n",
    "plt.annotate(\n",
    "    \"Masks vs stars\",\n",
    "    xy=(0.5, 1.03),\n",
    "    xycoords=\"axes fraction\",\n",
    "    xytext=(0, 10),\n",
    "    textcoords=\"offset points\",\n",
    "    ha=\"center\",\n",
    "    va=\"bottom\",\n",
    "    fontsize=15,\n",
    ")\n",
    "plt.colorbar()\n",
    "plt.show()"
   ]
  },
  {
   "cell_type": "code",
   "execution_count": null,
   "id": "b5396c6d-94a6-4e70-b1f4-574e322e054d",
   "metadata": {},
   "outputs": [],
   "source": [
    "galaxy_sample_r = matteo_gals[\n",
    "    (matteo_gals[\"ra\"] >= 60.16)\n",
    "    & (matteo_gals[\"ra\"] <= 60.45)\n",
    "    & (matteo_gals[\"dec\"] <= -36.11)\n",
    "    & (matteo_gals[\"dec\"] >= -36.34)\n",
    "]\n",
    "bright_stars_r = bright_stars[\n",
    "    (bright_stars[\"ra\"] >= 60.16)\n",
    "    & (bright_stars[\"ra\"] <= 60.45)\n",
    "    & (bright_stars[\"dec\"] <= -36.11)\n",
    "    & (bright_stars[\"dec\"] >= -36.34)\n",
    "]"
   ]
  },
  {
   "cell_type": "code",
   "execution_count": null,
   "id": "3fc7a326-2df0-47e3-93f4-4981d799826b",
   "metadata": {},
   "outputs": [],
   "source": [
    "fig, ax = plt.subplots(figsize=(8, 5))\n",
    "sp = skyproj.McBrydeSkyproj(ax=ax)\n",
    "im, lon_raster, lat_raster, values_raster = sp.draw_hspmap(\n",
    "    mask,\n",
    "    vmin=0,\n",
    "    vmax=1,\n",
    "    lon_range=[60.45, 60.16],\n",
    "    lat_range=[-36.34, -36.11],\n",
    "    cmap=\"Dark2\",\n",
    ")\n",
    "sp.plot(galaxy_sample_r[\"ra\"], galaxy_sample_r[\"dec\"], \"r.\", markersize=1, alpha=0.5)\n",
    "sp.plot(bright_stars_r[\"ra\"], bright_stars_r[\"dec\"], \"b.\", markersize=2, alpha=1)\n",
    "sp.plot(\n",
    "    bright_stars_r[\"ra\"][bright_stars_r[\"mag_i_truth\"] < 10],\n",
    "    bright_stars_r[\"dec\"][bright_stars_r[\"mag_i_truth\"] < 10],\n",
    "    \"c.\",\n",
    "    markersize=2,\n",
    "    alpha=1,\n",
    ")\n",
    "plt.annotate(\n",
    "    \"Masks vs stars\",\n",
    "    xy=(0.5, 1.03),\n",
    "    xycoords=\"axes fraction\",\n",
    "    xytext=(0, 10),\n",
    "    textcoords=\"offset points\",\n",
    "    ha=\"center\",\n",
    "    va=\"bottom\",\n",
    "    fontsize=15,\n",
    ")\n",
    "plt.colorbar()\n",
    "plt.show()"
   ]
  }
 ],
 "metadata": {
  "kernelspec": {
   "display_name": "desc",
   "language": "python",
   "name": "desc"
  },
  "language_info": {
   "codemirror_mode": {
    "name": "ipython",
    "version": 3
   },
   "file_extension": ".py",
   "mimetype": "text/x-python",
   "name": "python",
   "nbconvert_exporter": "python",
   "pygments_lexer": "ipython3",
   "version": "3.10.9"
  }
 },
 "nbformat": 4,
 "nbformat_minor": 5
}
