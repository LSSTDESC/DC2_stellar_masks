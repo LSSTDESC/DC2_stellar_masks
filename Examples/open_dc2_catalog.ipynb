{
 "cells": [
  {
   "cell_type": "code",
   "execution_count": null,
   "id": "ed44991e-451e-4f25-8364-9ed1bd947c0f",
   "metadata": {},
   "outputs": [],
   "source": [
    "import sys\n",
    "sys.path.append('../bright_objects_masks')\n",
    "import call_dc2\n",
    "import warnings\n",
    "warnings.filterwarnings('ignore')"
   ]
  },
  {
   "cell_type": "markdown",
   "id": "16b4f971-fc03-4643-88bd-bc198e3836a8",
   "metadata": {},
   "source": [
    "In this notebook, we open DC2 catalogs using 1) Predefined cuts 2) Custom cuts. Then, we see how to open separatly galaxies and stars. At the end we show how to bin stars catalog in bins of magnitude."
   ]
  },
  {
   "cell_type": "markdown",
   "id": "e16bc96b-eeb6-4dff-a351-22d0b99a87ba",
   "metadata": {},
   "source": [
    "## I) Open a catalog using 'basic quality cuts'"
   ]
  },
  {
   "cell_type": "markdown",
   "id": "46ba1702-20cd-44b4-8e07-e0e6178f498a",
   "metadata": {
    "tags": []
   },
   "source": [
    "### 1) Predefined cuts"
   ]
  },
  {
   "cell_type": "code",
   "execution_count": null,
   "id": "1e7aca08-dc34-495c-a116-aa6de952b8db",
   "metadata": {},
   "outputs": [],
   "source": [
    "openDC2 = call_dc2.OpenDC2(name = 'dc2_object_run2.2i_dr6_v2_with_addons_v2') #It is the same catalog by default"
   ]
  },
  {
   "cell_type": "code",
   "execution_count": null,
   "id": "a4789a79-97fe-4800-86c8-2014709e89bc",
   "metadata": {},
   "outputs": [],
   "source": [
    "DC2_catalog = openDC2.open_cat()"
   ]
  },
  {
   "cell_type": "markdown",
   "id": "fb9b5b2c-806c-4d02-b8e3-115b45fe1a58",
   "metadata": {
    "tags": []
   },
   "source": [
    "### 2) Custom 'quality cuts'"
   ]
  },
  {
   "cell_type": "markdown",
   "id": "4b20aeaf-ab15-41aa-9117-71b3b3767e3c",
   "metadata": {},
   "source": [
    "Arguments :  \n",
    "-- quantities = select what quantities you want to read from DC2 catalog.  \n",
    "-- conditions = 'Basic_quality cuts', if None : select predefined cuts.  \n",
    "-- tract_list = Select which tract(s) to open.  "
   ]
  },
  {
   "cell_type": "code",
   "execution_count": null,
   "id": "5fa023ba-b6fd-41d5-be2f-0c8da4707aa2",
   "metadata": {},
   "outputs": [],
   "source": [
    "conditions = [\"detect_isPrimary==True\", \"modelfit_CModel_flag_badCentroid==False\", \"base_SdssCentroid_flag==False\", \"base_PixelFlags_flag_edge==False\"]"
   ]
  },
  {
   "cell_type": "code",
   "execution_count": null,
   "id": "ce16f3fb-d1eb-4ad1-9798-1b92dfe5af3e",
   "metadata": {},
   "outputs": [],
   "source": [
    "openDC2 = call_dc2.OpenDC2(quantities = ['ra', 'dec', 'z', 'mag_i_cModel'], conditions = conditions, tract_list=[3830])"
   ]
  },
  {
   "cell_type": "markdown",
   "id": "9b872483-67a6-45d9-9d03-71d17bbbe9ec",
   "metadata": {},
   "source": [
    "## II) Select objects to read (galaxies or stars)"
   ]
  },
  {
   "cell_type": "markdown",
   "id": "97c1a2f5-33ef-4e22-95ba-d5e76c4d5aed",
   "metadata": {},
   "source": [
    "### 1) Galaxies"
   ]
  },
  {
   "cell_type": "markdown",
   "id": "e5ea0f16-116f-487c-900e-cf420e110f22",
   "metadata": {},
   "source": [
    "Lets say you want to get galaxies from tract 3830 with 'basic quality cuts'."
   ]
  },
  {
   "cell_type": "code",
   "execution_count": null,
   "id": "731a0e18-1f24-4683-97d2-858861293247",
   "metadata": {},
   "outputs": [],
   "source": [
    "galaxies_3830 = openDC2.galaxies(quantities=['ra','dec','mag_i_cModel'], conditions=None, conditions1 = [\"extendedness==1\", \"mag_i_cModel>17\", \"mag_i_cModel<25.3\"], tract_list=[3830])"
   ]
  },
  {
   "cell_type": "code",
   "execution_count": null,
   "id": "c90b6299-b21c-4c0c-8d98-8dbf86b2c997",
   "metadata": {},
   "outputs": [],
   "source": [
    "display(galaxies_3830[:10])"
   ]
  },
  {
   "cell_type": "markdown",
   "id": "799ca8e6-9b18-4600-a117-ab29750cc9f8",
   "metadata": {},
   "source": [
    "Now you want the galaxies from this tract but with the neighbouring tracts' galaxies too (it is usefull when we calculate the critical radius).  \n",
    "Note : By default, quantities = ['ra','dec','mag_i_cModel'], conditions=None, conditions1 = [\"extendedness==1\", \"mag_i_cModel>17\", \"mag_i_cModel<25.3\"], tract_list = None.  \n",
    "conditions = None --> Basic quality cuts and tract_list = None --> Full catalog read."
   ]
  },
  {
   "cell_type": "code",
   "execution_count": null,
   "id": "51ef4ca3-4446-4dc8-b798-8839272959a1",
   "metadata": {
    "tags": []
   },
   "outputs": [],
   "source": [
    "galaxies_3830_nghb = openDC2.galaxies_with_neighbours_tracts(tract_list=3830)"
   ]
  },
  {
   "cell_type": "code",
   "execution_count": null,
   "id": "ff80c7af-73db-439d-982d-1bd144cfc7f9",
   "metadata": {},
   "outputs": [],
   "source": [
    "import matplotlib.pyplot as plt\n",
    "plt.scatter(galaxies_3830_nghb[\"ra\"], galaxies_3830_nghb[\"dec\"], s=0.01, label = \"3830\")\n",
    "plt.scatter(galaxies_3830[\"ra\"], galaxies_3830[\"dec\"], s= 0.01, label = \"neighbours\")\n",
    "plt.title(\"Galaxies from tract '3830' and its neighbours\", fontsize = 15)\n",
    "plt.xlabel(\"ra\", fontsize = 13)\n",
    "plt.ylabel(\"dec\", fontsize = 13)\n",
    "plt.legend()"
   ]
  },
  {
   "cell_type": "markdown",
   "id": "376ddab4-38b1-4a5c-8352-eab41bbb64cb",
   "metadata": {},
   "source": [
    "### 2) Stars"
   ]
  },
  {
   "cell_type": "markdown",
   "id": "067369ba-a38a-4a5d-915f-99e953a3370f",
   "metadata": {},
   "source": [
    "Get stars on the same tract, arguments are the same except conditions1 = [\"extendedness==0\"]"
   ]
  },
  {
   "cell_type": "code",
   "execution_count": null,
   "id": "1381c7fc-ab78-46b1-bb51-15aac64d1c1f",
   "metadata": {},
   "outputs": [],
   "source": [
    "stars_3830 = openDC2.stars(tract_list = 3830)"
   ]
  },
  {
   "cell_type": "markdown",
   "id": "29ea66ed-08b6-48f2-94d7-2b18ed42fb91",
   "metadata": {},
   "source": [
    "Bin those stars in magnitude bins.  \n",
    "By default, bins in i band magnitude and bins are [0-17,17-18,18-20,20-22,22-24]."
   ]
  },
  {
   "cell_type": "code",
   "execution_count": null,
   "id": "3327700f-dc01-462b-99ca-c2f92182dc93",
   "metadata": {},
   "outputs": [],
   "source": [
    "stars_3830_binned_1 = openDC2.bin_cat(stars_3830) # Basic way to do it\n",
    "stars_3830_binned_2 = openDC2.bin_cat(stars_3830, quantities = \"mag_i_cModel\", bins = [0,17,18,19,20,23,25]) # different customizable config"
   ]
  },
  {
   "cell_type": "code",
   "execution_count": null,
   "id": "cc302d93-c7ae-4309-bce5-937a52f6e2a2",
   "metadata": {},
   "outputs": [],
   "source": [
    "stars_3830_binned_2"
   ]
  }
 ],
 "metadata": {
  "kernelspec": {
   "display_name": "desc",
   "language": "python",
   "name": "desc"
  },
  "language_info": {
   "codemirror_mode": {
    "name": "ipython",
    "version": 3
   },
   "file_extension": ".py",
   "mimetype": "text/x-python",
   "name": "python",
   "nbconvert_exporter": "python",
   "pygments_lexer": "ipython3",
   "version": "3.10.9"
  }
 },
 "nbformat": 4,
 "nbformat_minor": 5
}
