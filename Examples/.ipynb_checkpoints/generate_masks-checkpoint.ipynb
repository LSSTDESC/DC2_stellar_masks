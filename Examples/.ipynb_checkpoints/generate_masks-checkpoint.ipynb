{
 "cells": [
  {
   "cell_type": "code",
   "execution_count": 1,
   "id": "e9435778-2833-432d-9339-aef137462297",
   "metadata": {},
   "outputs": [
    {
     "ename": "IndentationError",
     "evalue": "expected an indented block after 'if' statement on line 25 (s_multiprocessing.py, line 27)",
     "output_type": "error",
     "traceback": [
      "Traceback \u001b[0;36m(most recent call last)\u001b[0m:\n",
      "\u001b[0m  File \u001b[1;32m/sps/lsst/users/namourou/conda_envs/conda_clone_021023/desc_v0/lib/python3.10/site-packages/IPython/core/interactiveshell.py:3460\u001b[0m in \u001b[1;35mrun_code\u001b[0m\n    exec(code_obj, self.user_global_ns, self.user_ns)\u001b[0m\n",
      "\u001b[0m  Cell \u001b[1;32mIn[1], line 3\u001b[0m\n    import generate_masks\u001b[0m\n",
      "\u001b[0m  File \u001b[1;32m~/workspace/side_codes/clusters/DC2/DC2_mask/bright_objects_masks/desc_package/Examples/../bright_objects_masks/generate_masks.py:8\u001b[0m\n    import radius_study\u001b[0m\n",
      "\u001b[0;36m  File \u001b[0;32m~/workspace/side_codes/clusters/DC2/DC2_mask/bright_objects_masks/desc_package/Examples/../bright_objects_masks/radius_study.py:9\u001b[0;36m\n\u001b[0;31m    from s_multiprocessing import multiprocess_function\u001b[0;36m\n",
      "\u001b[0;36m  File \u001b[0;32m~/workspace/side_codes/clusters/DC2/DC2_mask/bright_objects_masks/desc_package/Examples/../bright_objects_masks/s_multiprocessing.py:27\u001b[0;36m\u001b[0m\n\u001b[0;31m    cmd  = f\"sbatch --job-name=submit_func_{func_name} -t  0-10:00 -n 2 --mem {slurm_mem}G -D {current_dir} -L sps -o {slurm_output_path} <<?\\n\"\u001b[0m\n\u001b[0m    ^\u001b[0m\n\u001b[0;31mIndentationError\u001b[0m\u001b[0;31m:\u001b[0m expected an indented block after 'if' statement on line 25\n"
     ]
    }
   ],
   "source": [
    "import sys\n",
    "sys.path.append('../bright_objects_masks')\n",
    "import generate_masks\n",
    "import warnings\n",
    "warnings.filterwarnings('ignore')"
   ]
  },
  {
   "cell_type": "code",
   "execution_count": null,
   "id": "045599f8-93f1-4ffd-9db8-49486e639593",
   "metadata": {
    "tags": []
   },
   "outputs": [],
   "source": [
    "mask_gen = generate_masks.masks(tract_list=[3830])#, density_ratio = density_glob)"
   ]
  },
  {
   "cell_type": "code",
   "execution_count": null,
   "id": "784b4d17-f3b9-4659-bdc5-1254ff88e41d",
   "metadata": {},
   "outputs": [],
   "source": [
    "mask = mask_gen.create_healsparse_masks()"
   ]
  },
  {
   "cell_type": "code",
   "execution_count": 4,
   "id": "83f6c9ca-6a53-4969-81b3-050a0e8974fe",
   "metadata": {},
   "outputs": [],
   "source": [
    "mask_gen.write_heaslparse_mask(mask, outpath = \"/sps/lsst/users/namourou/web/clusters/DC2/bright_objects_masks/catalogs/bo_masks_3830.hs\")"
   ]
  },
  {
   "cell_type": "code",
   "execution_count": 5,
   "id": "e38bffa8-0f6e-40a2-a4ef-bdba255eb1d2",
   "metadata": {},
   "outputs": [
    {
     "data": {
      "text/plain": [
       "HealSparseMap: nside_coverage = 32, nside_sparse = 131072, bool, 928246 valid pixels"
      ]
     },
     "execution_count": 5,
     "metadata": {},
     "output_type": "execute_result"
    }
   ],
   "source": [
    "mask"
   ]
  },
  {
   "cell_type": "markdown",
   "id": "0c242ce9-a870-4fa2-aa57-b91be20fc109",
   "metadata": {},
   "source": [
    "Convert healsparse mask to healpix mask (too large to be run in a notebook)"
   ]
  },
  {
   "cell_type": "code",
   "execution_count": null,
   "id": "9291b294-c54a-46a6-9772-5d76954b73bd",
   "metadata": {},
   "outputs": [],
   "source": [
    "ra_hp, dec_hp, hp_mask = mask_gen.convert_maks(mask) ###"
   ]
  },
  {
   "cell_type": "markdown",
   "id": "3473dba0-a3f7-4aee-9095-70fd4c56849d",
   "metadata": {},
   "source": [
    "Save it"
   ]
  },
  {
   "cell_type": "code",
   "execution_count": null,
   "id": "0db04803-d2eb-4a3c-a6a5-78aebbc1931e",
   "metadata": {},
   "outputs": [],
   "source": [
    "write_healpix_masks(ra_hp, dec_hp, hp_mask, outpath = \"/sps/lsst/users/namourou/web/clusters/DC2/bright_objects_masks/catalogs/bo_masks_3830.fits\")"
   ]
  }
 ],
 "metadata": {
  "kernelspec": {
   "display_name": "desc",
   "language": "python",
   "name": "desc"
  },
  "language_info": {
   "codemirror_mode": {
    "name": "ipython",
    "version": 3
   },
   "file_extension": ".py",
   "mimetype": "text/x-python",
   "name": "python",
   "nbconvert_exporter": "python",
   "pygments_lexer": "ipython3",
   "version": "3.10.9"
  }
 },
 "nbformat": 4,
 "nbformat_minor": 5
}
