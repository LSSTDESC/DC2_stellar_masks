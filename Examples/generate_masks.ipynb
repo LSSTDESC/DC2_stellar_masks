{
 "cells": [
  {
   "cell_type": "code",
   "execution_count": 1,
   "id": "e9435778-2833-432d-9339-aef137462297",
   "metadata": {},
   "outputs": [],
   "source": [
    "import sys\n",
    "sys.path.append('../bright_objects_masks')\n",
    "import generate_masks"
   ]
  },
  {
   "cell_type": "code",
   "execution_count": 2,
   "id": "045599f8-93f1-4ffd-9db8-49486e639593",
   "metadata": {
    "collapsed": true,
    "jupyter": {
     "outputs_hidden": true
    },
    "tags": []
   },
   "outputs": [
    {
     "name": "stdout",
     "output_type": "stream",
     "text": [
      "Default flags selected\n"
     ]
    },
    {
     "name": "stderr",
     "output_type": "stream",
     "text": [
      "/sps/lsst/users/namourou/conda_envs/conda_clone_021023/desc_v0/lib/python3.10/site-packages/GCRCatalogs/dc2_dm_catalog.py:43: RuntimeWarning: divide by zero encountered in log10\n",
      "  return -2.5 * np.log10(flux) + AB_mag_zp_wrt_nanoJansky\n",
      "/sps/lsst/users/namourou/conda_envs/conda_clone_021023/desc_v0/lib/python3.10/site-packages/GCRCatalogs/dc2_dm_catalog.py:43: RuntimeWarning: invalid value encountered in log10\n",
      "  return -2.5 * np.log10(flux) + AB_mag_zp_wrt_nanoJansky\n"
     ]
    },
    {
     "name": "stdout",
     "output_type": "stream",
     "text": [
      "DC2 catalog loaded (tract = 3830, with filters)\n",
      "Default flags selected\n"
     ]
    },
    {
     "name": "stderr",
     "output_type": "stream",
     "text": [
      "/sps/lsst/users/namourou/conda_envs/conda_clone_021023/desc_v0/lib/python3.10/site-packages/GCRCatalogs/dc2_dm_catalog.py:43: RuntimeWarning: divide by zero encountered in log10\n",
      "  return -2.5 * np.log10(flux) + AB_mag_zp_wrt_nanoJansky\n",
      "/sps/lsst/users/namourou/conda_envs/conda_clone_021023/desc_v0/lib/python3.10/site-packages/GCRCatalogs/dc2_dm_catalog.py:43: RuntimeWarning: invalid value encountered in log10\n",
      "  return -2.5 * np.log10(flux) + AB_mag_zp_wrt_nanoJansky\n"
     ]
    },
    {
     "name": "stdout",
     "output_type": "stream",
     "text": [
      "DC2 catalog loaded (tract = 3830, with filters)\n",
      "Default flags selected\n"
     ]
    },
    {
     "name": "stderr",
     "output_type": "stream",
     "text": [
      "/sps/lsst/users/namourou/conda_envs/conda_clone_021023/desc_v0/lib/python3.10/site-packages/GCRCatalogs/dc2_dm_catalog.py:43: RuntimeWarning: divide by zero encountered in log10\n",
      "  return -2.5 * np.log10(flux) + AB_mag_zp_wrt_nanoJansky\n",
      "/sps/lsst/users/namourou/conda_envs/conda_clone_021023/desc_v0/lib/python3.10/site-packages/GCRCatalogs/dc2_dm_catalog.py:43: RuntimeWarning: invalid value encountered in log10\n",
      "  return -2.5 * np.log10(flux) + AB_mag_zp_wrt_nanoJansky\n"
     ]
    },
    {
     "name": "stdout",
     "output_type": "stream",
     "text": [
      "DC2 catalog loaded (tract = 3830, with filters)\n",
      "<radius_study.compute_density object at 0x7fdb918bb400>\n",
      "<radius_study.compute_density object at 0x7fdb918bbe20>\n",
      "<radius_study.compute_density object at 0x7fdb918bbbe0>\n",
      "<radius_study.compute_density object at 0x7fdb918bbc10>\n",
      "<radius_study.compute_density object at 0x7fdb918bb670>\n",
      "Default flags selected\n"
     ]
    },
    {
     "name": "stderr",
     "output_type": "stream",
     "text": [
      "/sps/lsst/users/namourou/conda_envs/conda_clone_021023/desc_v0/lib/python3.10/site-packages/GCRCatalogs/dc2_dm_catalog.py:43: RuntimeWarning: divide by zero encountered in log10\n",
      "  return -2.5 * np.log10(flux) + AB_mag_zp_wrt_nanoJansky\n",
      "/sps/lsst/users/namourou/conda_envs/conda_clone_021023/desc_v0/lib/python3.10/site-packages/GCRCatalogs/dc2_dm_catalog.py:43: RuntimeWarning: invalid value encountered in log10\n",
      "  return -2.5 * np.log10(flux) + AB_mag_zp_wrt_nanoJansky\n"
     ]
    },
    {
     "name": "stdout",
     "output_type": "stream",
     "text": [
      "DC2 catalog loaded (tract = [3830], with filters)\n",
      "Default flags selected\n"
     ]
    },
    {
     "name": "stderr",
     "output_type": "stream",
     "text": [
      "/sps/lsst/users/namourou/conda_envs/conda_clone_021023/desc_v0/lib/python3.10/site-packages/GCRCatalogs/dc2_dm_catalog.py:43: RuntimeWarning: divide by zero encountered in log10\n",
      "  return -2.5 * np.log10(flux) + AB_mag_zp_wrt_nanoJansky\n",
      "/sps/lsst/users/namourou/conda_envs/conda_clone_021023/desc_v0/lib/python3.10/site-packages/GCRCatalogs/dc2_dm_catalog.py:43: RuntimeWarning: invalid value encountered in log10\n",
      "  return -2.5 * np.log10(flux) + AB_mag_zp_wrt_nanoJansky\n"
     ]
    },
    {
     "name": "stdout",
     "output_type": "stream",
     "text": [
      "DC2 catalog loaded (tract = [3830], with filters)\n"
     ]
    }
   ],
   "source": [
    "mask_gen = generate_masks.masks(tract_list=[3830])#, density_ratio = density_glob)"
   ]
  },
  {
   "cell_type": "code",
   "execution_count": 3,
   "id": "784b4d17-f3b9-4659-bdc5-1254ff88e41d",
   "metadata": {},
   "outputs": [
    {
     "name": "stdout",
     "output_type": "stream",
     "text": [
      "453\n",
      "779\n",
      "2675\n",
      "4506\n",
      "4931\n"
     ]
    }
   ],
   "source": [
    "mask = mask_gen.create_healsparse_masks()"
   ]
  },
  {
   "cell_type": "code",
   "execution_count": 4,
   "id": "83f6c9ca-6a53-4969-81b3-050a0e8974fe",
   "metadata": {},
   "outputs": [],
   "source": [
    "mask_gen.write_heaslparse_mask(mask, outpath = \"/sps/lsst/users/namourou/web/clusters/DC2/bright_objects_masks/catalogs/bo_masks_3830.hs\")"
   ]
  },
  {
   "cell_type": "code",
   "execution_count": 5,
   "id": "e38bffa8-0f6e-40a2-a4ef-bdba255eb1d2",
   "metadata": {},
   "outputs": [
    {
     "data": {
      "text/plain": [
       "HealSparseMap: nside_coverage = 32, nside_sparse = 131072, bool, 928246 valid pixels"
      ]
     },
     "execution_count": 5,
     "metadata": {},
     "output_type": "execute_result"
    }
   ],
   "source": [
    "mask"
   ]
  },
  {
   "cell_type": "markdown",
   "id": "0c242ce9-a870-4fa2-aa57-b91be20fc109",
   "metadata": {},
   "source": [
    "Convert healsparse mask to healpix mask (too large to be run in a notebook)"
   ]
  },
  {
   "cell_type": "code",
   "execution_count": null,
   "id": "9291b294-c54a-46a6-9772-5d76954b73bd",
   "metadata": {},
   "outputs": [],
   "source": [
    "ra_hp, dec_hp, hp_mask = mask_gen.convert_maks(mask) ###"
   ]
  },
  {
   "cell_type": "markdown",
   "id": "3473dba0-a3f7-4aee-9095-70fd4c56849d",
   "metadata": {},
   "source": [
    "Save it"
   ]
  },
  {
   "cell_type": "code",
   "execution_count": null,
   "id": "0db04803-d2eb-4a3c-a6a5-78aebbc1931e",
   "metadata": {},
   "outputs": [],
   "source": [
    "write_healpix_masks(ra_hp, dec_hp, hp_mask, outpath = \"/sps/lsst/users/namourou/web/clusters/DC2/bright_objects_masks/catalogs/bo_masks_3830.fits\")"
   ]
  }
 ],
 "metadata": {
  "kernelspec": {
   "display_name": "desc",
   "language": "python",
   "name": "desc"
  },
  "language_info": {
   "codemirror_mode": {
    "name": "ipython",
    "version": 3
   },
   "file_extension": ".py",
   "mimetype": "text/x-python",
   "name": "python",
   "nbconvert_exporter": "python",
   "pygments_lexer": "ipython3",
   "version": "3.10.9"
  }
 },
 "nbformat": 4,
 "nbformat_minor": 5
}
